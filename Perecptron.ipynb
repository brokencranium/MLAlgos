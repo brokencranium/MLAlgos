{
 "cells": [
  {
   "cell_type": "markdown",
   "metadata": {
    "collapsed": true
   },
   "source": [
    "Perceptron"
   ]
  },
  {
   "cell_type": "markdown",
   "metadata": {},
   "source": [
    "This algorithm learns optimal weight coefficients and is multiplied with input features in order to make a decision if a neuron fires or not. \n",
    "\n",
    "In a binary classification problem an activation function takes a linear combination of input values and corresponding weights. A threshold value for the the activation function is set which determines the outcome.\n"
   ]
  },
  {
   "cell_type": "markdown",
   "metadata": {},
   "source": [
    "w - weights\n",
    "x - inputs\n",
    "z - net input\n",
    "$\\phi$ - threshold value\n",
    "f(z) - activtation function\n",
    "y - output\n",
    "\n",
    "$\n",
    "z = w_1x_1 + w_2x_2 + w_3x_3+...+w_nx_n\n",
    "$\n",
    "\n",
    "w & x in matrix form\n",
    "\n",
    "$\n",
    "w = \\left[ \\begin{array}{c}\n",
    "w_1 \\ \\\n",
    "    w_2 \\ \\\n",
    "    w_3 \\ \\\n",
    "    \\ldots \\ \\\n",
    "    w_n\n",
    "\\end{array} \\right]\n",
    ", x = \\left[ \\begin{array}{c}\n",
    "x_1 \\ \\\n",
    "    x_2 \\ \\\n",
    "    x_3  \\ \\\n",
    "    \\ldots \\ \\\n",
    "    x_n\n",
    "\\end{array} \\right]\n",
    "$\n",
    "\n",
    "$z = w^T  \\times  x$\n",
    "\n",
    "f(z) =\\begin{cases}\n",
    "1,  & \\text{$if z \\gt 0$}\n",
    "0, & \\text{otherwise}\n",
    "\\end{cases}  "
   ]
  },
  {
   "cell_type": "markdown",
   "metadata": {},
   "source": [
    "w - weights\n",
    "x - inputs\n",
    "z - net input\n",
    "$\\phi$ - threshold value\n",
    "f() - unit step function/Heavside step function\n",
    "y - output\n",
    "\n",
    "$z = w_1x_1 + w_2x_2 + w_3x_3+...+w_nx_n$\n",
    "\n",
    "w & x in matrix form\n",
    "\n",
    "$\n",
    "w = \\left[ \\begin{array}{c}\n",
    "w_1 \\ \\\n",
    "    w_2 \\ \\\n",
    "    w_3 \\ \\\n",
    "    \\ldots \\ \\\n",
    "    w_n\n",
    "\\end{array} \\right]\n",
    ", x = \\left[ \\begin{array}{c}\n",
    "x_1 \\ \\\n",
    "    x_2 \\ \\\n",
    "    x_3  \\ \\\n",
    "    \\ldots \\ \\\n",
    "    x_n\n",
    "\\end{array} \\right]\n",
    "$\n",
    "\n",
    "$ z = w^T  \\times  x $\n",
    "\n",
    "f(z) = $\n",
    "\\left\\{\n",
    "\\begin{aligned}\n",
    "1,\\;  & \\text{$if \\; z \\ge \\phi$} \\ \\\n",
    "        -1,\\; & \\text{otherwise}\n",
    "\\end{aligned}\n",
    "\\right.\n",
    "$"
   ]
  },
  {
   "cell_type": "markdown",
   "metadata": {},
   "source": [
    "$\n",
    "z = w_1x_1 + w_2x_2 + w_3x_3+...w_nx_n\n",
    "$\n",
    "\n",
    "\n",
    "z - net input\n",
    "\n",
    "w - weights \n",
    "\n",
    "x - inputs \n",
    "\n",
    "\n",
    "\n"
   ]
  },
  {
   "cell_type": "markdown",
   "metadata": {},
   "source": [
    "Warren McCullock & Walter Pitts published the concepts of neural cells as gates in 1943. Input signals are given to dendrites, if the accumulated signals reach the threshold, the output signal is passed to the axons. Frank Rosenblatt published the perceptron rule based on McCullock & Pitts publications in 1957. As per it\n",
    "1. Initialize weights to small numbers or zero.\n",
    "2. For each instance calculate the output with the initialized weights.\n",
    "3."
   ]
  }
 ],
 "metadata": {
  "kernelspec": {
   "display_name": "Python 2",
   "language": "python",
   "name": "python2"
  },
  "language_info": {
   "codemirror_mode": {
    "name": "ipython",
    "version": 2.0
   },
   "file_extension": ".py",
   "mimetype": "text/x-python",
   "name": "python",
   "nbconvert_exporter": "python",
   "pygments_lexer": "ipython2",
   "version": "2.7.6"
  }
 },
 "nbformat": 4,
 "nbformat_minor": 0
}